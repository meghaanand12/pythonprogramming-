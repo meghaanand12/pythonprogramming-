{
 "cells": [
  {
   "cell_type": "code",
   "execution_count": 21,
   "metadata": {},
   "outputs": [
    {
     "name": "stdout",
     "output_type": "stream",
     "text": [
      "pear\n",
      "price: 3\n",
      "stock: 15\n",
      "apple\n",
      "price: 2\n",
      "stock: 0\n",
      "orange\n",
      "price: 1.5\n",
      "stock: 32\n",
      "banana\n",
      "price: 4\n",
      "stock: 6\n",
      "stock and price of food is  pear\n",
      "45\n",
      "stock and price of food is  apple\n",
      "0\n",
      "stock and price of food is  orange\n",
      "48.0\n",
      "stock and price of food is  banana\n",
      "24\n",
      "Total is:\n",
      "117.0\n"
     ]
    }
   ],
   "source": [
    "\n",
    "#shopping market\n",
    "prices= {\"banana\": 4,\n",
    "\"apple\": 2,\n",
    "\"orange\": 1.5,\n",
    "\"pear\": 3\n",
    "}\n",
    "stock = {\"banana\": 6,\n",
    "\"apple\": 0,\n",
    "\"orange\": 32,\n",
    "\"pear\": 15\n",
    "}\n",
    "for food in prices:\n",
    "  \n",
    "  print(food)\n",
    "  print(\"price: %s\" % prices[food])\n",
    "  print(\"stock: %s\" % stock[food])\n",
    "#print price by multiply price and stock of that food\n",
    "total = 0\n",
    "for food in prices:\n",
    "  print ((\"stock and price of food is \"),(food))\n",
    "  print (prices[food] * stock[food])\n",
    "  total = total + prices[food] * stock[food]\n",
    "print (\"Total is:\")\n",
    "print (total)\n",
    "#now u have list\n",
    "shopping_list = [\"banana\", \"orange\", \"apple\"]\n",
    "\n",
    "#billing\n",
    "def compute_bill(food):\n",
    "  total = 0\n",
    "  for item in food:\n",
    "    if stock[item] > 0:\n",
    "      total += prices[item]\n",
    "      stock[item] -= 1\n",
    "  print (total)\n",
    "\n",
    "\n",
    "\n"
   ]
  },
  {
   "cell_type": "code",
   "execution_count": null,
   "metadata": {},
   "outputs": [],
   "source": []
  },
  {
   "cell_type": "code",
   "execution_count": null,
   "metadata": {},
   "outputs": [],
   "source": []
  }
 ],
 "metadata": {
  "kernelspec": {
   "display_name": "Python 3",
   "language": "python",
   "name": "python3"
  },
  "language_info": {
   "codemirror_mode": {
    "name": "ipython",
    "version": 3
   },
   "file_extension": ".py",
   "mimetype": "text/x-python",
   "name": "python",
   "nbconvert_exporter": "python",
   "pygments_lexer": "ipython3",
   "version": "3.5.2"
  }
 },
 "nbformat": 4,
 "nbformat_minor": 2
}
