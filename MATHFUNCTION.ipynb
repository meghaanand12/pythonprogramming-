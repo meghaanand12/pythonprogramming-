{
 "cells": [
  {
   "cell_type": "code",
   "execution_count": 21,
   "metadata": {},
   "outputs": [
    {
     "name": "stdout",
     "output_type": "stream",
     "text": [
      "10 squared is 100.\n",
      "37 to the power of 4 is 1874161.\n",
      "15\n",
      "5.0\n",
      "['__doc__', '__loader__', '__name__', '__package__', '__spec__', 'acos', 'acosh', 'asin', 'asinh', 'atan', 'atan2', 'atanh', 'ceil', 'copysign', 'cos', 'cosh', 'degrees', 'e', 'erf', 'erfc', 'exp', 'expm1', 'fabs', 'factorial', 'floor', 'fmod', 'frexp', 'fsum', 'gamma', 'gcd', 'hypot', 'inf', 'isclose', 'isfinite', 'isinf', 'isnan', 'ldexp', 'lgamma', 'log', 'log10', 'log1p', 'log2', 'modf', 'nan', 'pi', 'pow', 'radians', 'sin', 'sinh', 'sqrt', 'tan', 'tanh', 'trunc']\n",
      "5\n",
      "1\n",
      "42\n"
     ]
    }
   ],
   "source": [
    "#calling a square function\n",
    "def square(n):\n",
    "  \"\"\"Returns the square of a number.\"\"\"\n",
    "  squared = n ** 2\n",
    "  print (\"%d squared is %d.\" % (n, squared))\n",
    "  return squared\n",
    "  \n",
    "# Call the square function on line 10! Make sure to\n",
    "# include the number 10 between the parentheses.\n",
    "square(10)\n",
    "\n",
    "\n",
    "#function of exponent\n",
    "def power(base,exponent):  # Add your parameters here!\n",
    "  result = base ** exponent\n",
    "  print (\"%d to the power of %d is %d.\" % (base, exponent, result))\n",
    "\n",
    "power(37,4)  # Add your arguments here!\n",
    "#calling one function into another\n",
    "def one_good_turn(n):\n",
    "  return n + 1\n",
    "    \n",
    "def deserves_another(n):\n",
    "  result =  one_good_turn(n) + 2\n",
    "  print (result)\n",
    "\n",
    "deserves_another(12)\n",
    "\n",
    "#defining cube function\n",
    "def cube(number):\n",
    "  return number * number * number\n",
    "\n",
    "def by_three(number):\n",
    "  if number % 3 == 0:\n",
    "    print(cube(number))\n",
    "  else:\n",
    "    return (False)\n",
    "\n",
    "#calling cube function\n",
    "cube(3)\n",
    "#sqrt function\n",
    "import math\n",
    "print (math.sqrt(25))\n",
    "# Sets everything to a list of things from math\n",
    "\n",
    "everything = dir(math)\n",
    "print(everything) # Prints 'em all!\n",
    "\n",
    "#maximum function\n",
    "\n",
    "maximum = max(1,4,5)\n",
    "print (maximum)\n",
    "\n",
    "#minimum function\n",
    "\n",
    "minimum = min(1,3,4)\n",
    "print (minimum)\n",
    "\n",
    "#absolute function\n",
    "absolute = abs(-42)\n",
    "print (absolute)\n"
   ]
  },
  {
   "cell_type": "code",
   "execution_count": null,
   "metadata": {},
   "outputs": [],
   "source": []
  },
  {
   "cell_type": "code",
   "execution_count": null,
   "metadata": {},
   "outputs": [],
   "source": []
  },
  {
   "cell_type": "code",
   "execution_count": null,
   "metadata": {},
   "outputs": [],
   "source": []
  }
 ],
 "metadata": {
  "kernelspec": {
   "display_name": "Python 3",
   "language": "python",
   "name": "python3"
  },
  "language_info": {
   "codemirror_mode": {
    "name": "ipython",
    "version": 3
   },
   "file_extension": ".py",
   "mimetype": "text/x-python",
   "name": "python",
   "nbconvert_exporter": "python",
   "pygments_lexer": "ipython3",
   "version": "3.5.2"
  }
 },
 "nbformat": 4,
 "nbformat_minor": 2
}
