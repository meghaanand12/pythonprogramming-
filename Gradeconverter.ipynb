{
 "cells": [
  {
   "cell_type": "code",
   "execution_count": 2,
   "metadata": {},
   "outputs": [
    {
     "name": "stdout",
     "output_type": "stream",
     "text": [
      "A\n",
      "C\n",
      "F\n"
     ]
    }
   ],
   "source": [
    "# Complete the if and elif statements!\n",
    "def grade_converter(grade):\n",
    "    if grade >= 90:\n",
    "        return \"A\"\n",
    "    elif 90 > grade >= 80 :\n",
    "        return \"B\"\n",
    "    elif 80 > grade >= 70:\n",
    "        return \"C\"\n",
    "    elif 70 > grade >= 65:\n",
    "        return \"D\"\n",
    "    else:\n",
    "        return \"F\"\n",
    "      \n",
    "# This should print an \"A\"      \n",
    "print (grade_converter(92))\n",
    "\n",
    "# This should print a \"C\"\n",
    "print (grade_converter(70))\n",
    "\n",
    "# This should print an \"F\"\n",
    "print (grade_converter(61))"
   ]
  },
  {
   "cell_type": "code",
   "execution_count": null,
   "metadata": {},
   "outputs": [],
   "source": []
  }
 ],
 "metadata": {
  "kernelspec": {
   "display_name": "Python 3",
   "language": "python",
   "name": "python3"
  },
  "language_info": {
   "codemirror_mode": {
    "name": "ipython",
    "version": 3
   },
   "file_extension": ".py",
   "mimetype": "text/x-python",
   "name": "python",
   "nbconvert_exporter": "python",
   "pygments_lexer": "ipython3",
   "version": "3.5.2"
  }
 },
 "nbformat": 4,
 "nbformat_minor": 2
}
