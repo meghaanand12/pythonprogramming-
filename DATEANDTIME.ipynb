{
 "cells": [
  {
   "cell_type": "code",
   "execution_count": 9,
   "metadata": {},
   "outputs": [
    {
     "name": "stdout",
     "output_type": "stream",
     "text": [
      "2018-07-16 19:56:28.197403\n",
      "2018\n",
      "7\n",
      "16\n",
      "07/16/2018\n",
      "19:56:28\n",
      "07/16/2018  19:56:28\n"
     ]
    }
   ],
   "source": [
    "from datetime import datetime\n",
    "now = datetime.now()\n",
    "#print full date\n",
    "print (now)\n",
    "#print year from date\n",
    "print (now.year)\n",
    "#print month from date\n",
    "print (now.month)\n",
    "#print day from date\n",
    "print (now.day)\n",
    "# print date in the following format\n",
    "print ((\"%02d/%02d/%04d\")%(now.month,now.day,now.year))\n",
    "#print time \n",
    "print((\"%02d:%02d:%02d\") %(now.hour,now.minute,now.second))\n",
    "# print together full date with time\n",
    "print ('%02d/%02d/%04d  %02d:%02d:%02d'% (now.month, now.day, now.year,now.hour,now.minute,now.second))\n"
   ]
  },
  {
   "cell_type": "code",
   "execution_count": null,
   "metadata": {},
   "outputs": [],
   "source": []
  }
 ],
 "metadata": {
  "kernelspec": {
   "display_name": "Python 3",
   "language": "python",
   "name": "python3"
  },
  "language_info": {
   "codemirror_mode": {
    "name": "ipython",
    "version": 3
   },
   "file_extension": ".py",
   "mimetype": "text/x-python",
   "name": "python",
   "nbconvert_exporter": "python",
   "pygments_lexer": "ipython3",
   "version": "3.5.2"
  }
 },
 "nbformat": 4,
 "nbformat_minor": 2
}
