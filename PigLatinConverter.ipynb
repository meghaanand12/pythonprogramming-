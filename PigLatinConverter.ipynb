{
 "cells": [
  {
   "cell_type": "code",
   "execution_count": 6,
   "metadata": {},
   "outputs": [
    {
     "name": "stdout",
     "output_type": "stream",
     "text": [
      "Pig Latin\n",
      "Welcome to the Pig Latin Translator!\n",
      "Enter a word:hello\n",
      "hello\n",
      "ellohay\n"
     ]
    }
   ],
   "source": [
    "#a language converter\n",
    "print (\"Pig Latin\")\n",
    "print ('Welcome to the Pig Latin Translator!')\n",
    "\n",
    "# enter the word \n",
    "original = input(\"Enter a word:\")\n",
    "#python \n",
    "pyg = (\"ay\")\n",
    "#converting string to lower\n",
    "word = original.lower()\n",
    "#first word of the string\n",
    "first = word[0]\n",
    "#joining word first and pyg \n",
    "new_word = (word + first + pyg)\n",
    "#changing new word\n",
    "new_word = new_word[1:len(new_word)]\n",
    "#loop for checking input is there or not\n",
    "if len(original) > 0 and original.isalpha():\n",
    "  print (original)\n",
    "\n",
    "else:\n",
    "  print (\"empty\")\n",
    "#pig latin converter output\n",
    "print (new_word)\n"
   ]
  },
  {
   "cell_type": "code",
   "execution_count": null,
   "metadata": {},
   "outputs": [],
   "source": []
  }
 ],
 "metadata": {
  "kernelspec": {
   "display_name": "Python 3",
   "language": "python",
   "name": "python3"
  },
  "language_info": {
   "codemirror_mode": {
    "name": "ipython",
    "version": 3
   },
   "file_extension": ".py",
   "mimetype": "text/x-python",
   "name": "python",
   "nbconvert_exporter": "python",
   "pygments_lexer": "ipython3",
   "version": "3.5.2"
  }
 },
 "nbformat": 4,
 "nbformat_minor": 2
}
