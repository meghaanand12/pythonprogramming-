{
 "cells": [
  {
   "cell_type": "code",
   "execution_count": 7,
   "metadata": {},
   "outputs": [
    {
     "name": "stdout",
     "output_type": "stream",
     "text": [
      "With tax: 108.000000\n",
      "With tip: 124.200000\n"
     ]
    }
   ],
   "source": [
    "\n",
    "def tax(bill):\n",
    "  \"\"\"Adds 8% tax to a restaurant bill.\"\"\"\n",
    "  bill *= 1.08\n",
    "  print (\"With tax: %f\" % bill)\n",
    "  return bill\n",
    "\n",
    "def tip(bill):\n",
    "  \"\"\"Adds 15% tip to a restaurant bill.\"\"\"\n",
    "  bill *= 1.15\n",
    "  print (\"With tip: %f\" % bill)\n",
    "  return bill\n",
    "  \n",
    "meal_cost = 100\n",
    "meal_with_tax = tax(meal_cost)\n",
    "meal_with_tip = tip(meal_with_tax)"
   ]
  },
  {
   "cell_type": "code",
   "execution_count": null,
   "metadata": {},
   "outputs": [],
   "source": []
  },
  {
   "cell_type": "code",
   "execution_count": null,
   "metadata": {},
   "outputs": [],
   "source": []
  }
 ],
 "metadata": {
  "kernelspec": {
   "display_name": "Python 3",
   "language": "python",
   "name": "python3"
  },
  "language_info": {
   "codemirror_mode": {
    "name": "ipython",
    "version": 3
   },
   "file_extension": ".py",
   "mimetype": "text/x-python",
   "name": "python",
   "nbconvert_exporter": "python",
   "pygments_lexer": "ipython3",
   "version": "3.5.2"
  }
 },
 "nbformat": 4,
 "nbformat_minor": 2
}
